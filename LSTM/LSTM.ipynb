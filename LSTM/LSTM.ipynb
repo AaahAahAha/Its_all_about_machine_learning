{
 "cells": [
  {
   "cell_type": "code",
   "execution_count": 3,
   "metadata": {
    "colab": {
     "base_uri": "https://localhost:8080/",
     "height": 35
    },
    "colab_type": "code",
    "id": "KuPqFzYmHo2v",
    "outputId": "b4b48176-3b3e-4ff0-f123-020116d6facc"
   },
   "outputs": [],
   "source": [
    "import pandas as pd\n",
    "import numpy as np\n",
    "from keras.models import Sequential\n",
    "from keras.layers import LSTM\n",
    "from keras.layers import Dropout\n",
    "from keras.layers import Activation, Dense\n",
    "import matplotlib.pyplot as plt\n",
    "from sklearn.model_selection import train_test_split\n",
    "import seaborn as sns"
   ]
  },
  {
   "cell_type": "code",
   "execution_count": null,
   "metadata": {
    "colab": {},
    "colab_type": "code",
    "id": "G5F31ifkHv_s"
   },
   "outputs": [],
   "source": [
    "X=df.drop('FAULT',axis=1)\n",
    "y=df['FAULT']"
   ]
  },
  {
   "cell_type": "code",
   "execution_count": null,
   "metadata": {
    "colab": {},
    "colab_type": "code",
    "id": "OHsAVSg7H2ak"
   },
   "outputs": [],
   "source": [
    "X_train,X_test,y_train,y_test=train_test_split(X,y,test_size=.20)"
   ]
  },
  {
   "cell_type": "code",
   "execution_count": null,
   "metadata": {
    "colab": {},
    "colab_type": "code",
    "id": "ATc128TVH5j0"
   },
   "outputs": [],
   "source": [
    "X_train_norm = np.expand_dims(X_train_norm, 2)"
   ]
  },
  {
   "cell_type": "code",
   "execution_count": 9,
   "metadata": {
    "colab": {
     "base_uri": "https://localhost:8080/",
     "height": 361
    },
    "colab_type": "code",
    "id": "wmeqJL2kH7Mv",
    "outputId": "dda11d15-1436-481b-d1e0-d52c2abefc6a"
   },
   "outputs": [
    {
     "name": "stderr",
     "output_type": "stream",
     "text": [
      "WARNING: Logging before flag parsing goes to stderr.\n",
      "W0703 18:36:44.840990 139889776564096 deprecation_wrapper.py:119] From /usr/local/lib/python3.6/dist-packages/keras/backend/tensorflow_backend.py:74: The name tf.get_default_graph is deprecated. Please use tf.compat.v1.get_default_graph instead.\n",
      "\n",
      "W0703 18:36:44.865660 139889776564096 deprecation_wrapper.py:119] From /usr/local/lib/python3.6/dist-packages/keras/backend/tensorflow_backend.py:517: The name tf.placeholder is deprecated. Please use tf.compat.v1.placeholder instead.\n",
      "\n",
      "W0703 18:36:44.868775 139889776564096 deprecation_wrapper.py:119] From /usr/local/lib/python3.6/dist-packages/keras/backend/tensorflow_backend.py:4138: The name tf.random_uniform is deprecated. Please use tf.random.uniform instead.\n",
      "\n",
      "W0703 18:36:45.123238 139889776564096 deprecation_wrapper.py:119] From /usr/local/lib/python3.6/dist-packages/keras/backend/tensorflow_backend.py:133: The name tf.placeholder_with_default is deprecated. Please use tf.compat.v1.placeholder_with_default instead.\n",
      "\n",
      "W0703 18:36:45.134032 139889776564096 deprecation.py:506] From /usr/local/lib/python3.6/dist-packages/keras/backend/tensorflow_backend.py:3445: calling dropout (from tensorflow.python.ops.nn_ops) with keep_prob is deprecated and will be removed in a future version.\n",
      "Instructions for updating:\n",
      "Please use `rate` instead of `keep_prob`. Rate should be set to `rate = 1 - keep_prob`.\n"
     ]
    },
    {
     "name": "stdout",
     "output_type": "stream",
     "text": [
      "[<keras.layers.recurrent.LSTM object at 0x7f3a5ed646a0>, <keras.layers.core.Dropout object at 0x7f3a5ed647b8>, <keras.layers.recurrent.LSTM object at 0x7f3a5ed64b70>]\n",
      "[<keras.layers.recurrent.LSTM object at 0x7f3a5ed646a0>, <keras.layers.core.Dropout object at 0x7f3a5ed647b8>, <keras.layers.recurrent.LSTM object at 0x7f3a5ed64b70>, <keras.layers.core.Dropout object at 0x7f3a5abe1128>, <keras.layers.recurrent.LSTM object at 0x7f3a5ac2f470>]\n",
      "[<keras.layers.recurrent.LSTM object at 0x7f3a5ed646a0>, <keras.layers.core.Dropout object at 0x7f3a5ed647b8>, <keras.layers.recurrent.LSTM object at 0x7f3a5ed64b70>, <keras.layers.core.Dropout object at 0x7f3a5abe1128>, <keras.layers.recurrent.LSTM object at 0x7f3a5ac2f470>, <keras.layers.core.Dropout object at 0x7f3a5a8e2b38>, <keras.layers.recurrent.LSTM object at 0x7f3a5a9f3cf8>]\n"
     ]
    },
    {
     "name": "stderr",
     "output_type": "stream",
     "text": [
      "W0703 18:36:46.361891 139889776564096 deprecation_wrapper.py:119] From /usr/local/lib/python3.6/dist-packages/keras/optimizers.py:790: The name tf.train.Optimizer is deprecated. Please use tf.compat.v1.train.Optimizer instead.\n",
      "\n"
     ]
    },
    {
     "name": "stdout",
     "output_type": "stream",
     "text": [
      "[<keras.layers.recurrent.LSTM object at 0x7f3a5ed646a0>, <keras.layers.core.Dropout object at 0x7f3a5ed647b8>, <keras.layers.recurrent.LSTM object at 0x7f3a5ed64b70>, <keras.layers.core.Dropout object at 0x7f3a5abe1128>, <keras.layers.recurrent.LSTM object at 0x7f3a5ac2f470>, <keras.layers.core.Dropout object at 0x7f3a5a8e2b38>, <keras.layers.recurrent.LSTM object at 0x7f3a5a9f3cf8>, <keras.layers.core.Dropout object at 0x7f3a5a79fb38>, <keras.layers.recurrent.LSTM object at 0x7f3a5a6d1e10>]\n"
     ]
    }
   ],
   "source": [
    "model = Sequential()\n",
    "\n",
    "model.add(LSTM(units = 175, return_sequences = True, input_shape = (X_train_norm.shape[1], 1)))\n",
    "model.add(Dropout(0.2))\n",
    "# Adding a second LSTM layer \n",
    "model.add(LSTM(units = 175, return_sequences = True))\n",
    "print(model.layers)\n",
    "model.add(Dropout(0.2))\n",
    "\n",
    "# Adding a third LSTM layer \n",
    "model.add(LSTM(units = 175, return_sequences = True))\n",
    "print(model.layers)\n",
    "model.add(Dropout(0.2))\n",
    "\n",
    "# Adding a fourth LSTM layer \n",
    "model.add(LSTM(units = 175, return_sequences = True))\n",
    "print(model.layers)\n",
    "model.add(Dropout(0.2))\n",
    "\n",
    "# Adding a fifth LSTM layer \n",
    "model.add(LSTM(units = 175))            # return_sequences is False in the last layer\n",
    "print(model.layers)               \n",
    "model.add(Dropout(0.2))\n",
    "\n",
    "model.add(Dense(units = 1))\n",
    "model.add(Activation('relu'))\n",
    "\n",
    "model.compile(optimizer = 'rmsprop', loss = 'mean_squared_error',metrics=['accuracy'])"
   ]
  },
  {
   "cell_type": "code",
   "execution_count": 10,
   "metadata": {
    "colab": {
     "base_uri": "https://localhost:8080/",
     "height": 575
    },
    "colab_type": "code",
    "id": "t9BZbW1gH-S7",
    "outputId": "455cb2fa-2c39-4d48-c897-e474b5bd995c"
   },
   "outputs": [
    {
     "name": "stdout",
     "output_type": "stream",
     "text": [
      "_________________________________________________________________\n",
      "Layer (type)                 Output Shape              Param #   \n",
      "=================================================================\n",
      "lstm_1 (LSTM)                (None, 20, 175)           123900    \n",
      "_________________________________________________________________\n",
      "dropout_1 (Dropout)          (None, 20, 175)           0         \n",
      "_________________________________________________________________\n",
      "lstm_2 (LSTM)                (None, 20, 175)           245700    \n",
      "_________________________________________________________________\n",
      "dropout_2 (Dropout)          (None, 20, 175)           0         \n",
      "_________________________________________________________________\n",
      "lstm_3 (LSTM)                (None, 20, 175)           245700    \n",
      "_________________________________________________________________\n",
      "dropout_3 (Dropout)          (None, 20, 175)           0         \n",
      "_________________________________________________________________\n",
      "lstm_4 (LSTM)                (None, 20, 175)           245700    \n",
      "_________________________________________________________________\n",
      "dropout_4 (Dropout)          (None, 20, 175)           0         \n",
      "_________________________________________________________________\n",
      "lstm_5 (LSTM)                (None, 175)               245700    \n",
      "_________________________________________________________________\n",
      "dropout_5 (Dropout)          (None, 175)               0         \n",
      "_________________________________________________________________\n",
      "dense_1 (Dense)              (None, 1)                 176       \n",
      "_________________________________________________________________\n",
      "activation_1 (Activation)    (None, 1)                 0         \n",
      "=================================================================\n",
      "Total params: 1,106,876\n",
      "Trainable params: 1,106,876\n",
      "Non-trainable params: 0\n",
      "_________________________________________________________________\n"
     ]
    }
   ],
   "source": [
    "model.summary()"
   ]
  },
  {
   "cell_type": "code",
   "execution_count": 12,
   "metadata": {
    "colab": {
     "base_uri": "https://localhost:8080/",
     "height": 295
    },
    "colab_type": "code",
    "id": "r6layPp6ICAI",
    "outputId": "4a07c77f-6e39-47ef-8cd5-551ce9db5ce5"
   },
   "outputs": [
    {
     "data": {
      "image/png": "[encoded data removed]",
      "text/plain": [
       "<Figure size 432x288 with 1 Axes>"
      ]
     },
     "metadata": {
      "tags": []
     },
     "output_type": "display_data"
    }
   ],
   "source": [
    "# summarize history for accuracy\n",
    "plt.plot(history.history['acc'])\n",
    "plt.plot(history.history['val_acc'])\n",
    "plt.title('model accuracy')\n",
    "plt.ylabel('accuracy')\n",
    "plt.xlabel('epoch')\n",
    "plt.legend(['train', 'test'], loc='lower right')\n",
    "plt.show()"
   ]
  },
  {
   "cell_type": "code",
   "execution_count": 13,
   "metadata": {
    "colab": {
     "base_uri": "https://localhost:8080/",
     "height": 295
    },
    "colab_type": "code",
    "id": "p0JXWG30gAsv",
    "outputId": "ff1358ab-52f2-44a9-b391-96ce23d15518"
   },
   "outputs": [
    {
     "data": {
      "image/png": "[encoded data removed]",
      "text/plain": [
       "<Figure size 432x288 with 1 Axes>"
      ]
     },
     "metadata": {
      "tags": []
     },
     "output_type": "display_data"
    }
   ],
   "source": [
    "# summarize history for loss\n",
    "plt.plot(history.history['loss'])\n",
    "plt.plot(history.history['val_loss'])\n",
    "plt.title('model loss')\n",
    "plt.ylabel('loss')\n",
    "plt.xlabel('epoch')\n",
    "plt.legend(['train', 'test'], loc='upper right')\n",
    "plt.show()"
   ]
  },
  {
   "cell_type": "code",
   "execution_count": null,
   "metadata": {
    "colab": {},
    "colab_type": "code",
    "id": "vlZXpOOJgIQf"
   },
   "outputs": [],
   "source": []
  }
 ],
 "metadata": {
  "colab": {
   "collapsed_sections": [],
   "name": "LSTM_421.ipynb",
   "provenance": [],
   "version": "0.3.2"
  },
  "kernelspec": {
   "display_name": "Python 3",
   "language": "python",
   "name": "python3"
  },
  "language_info": {
   "codemirror_mode": {
    "name": "ipython",
    "version": 3
   },
   "file_extension": ".py",
   "mimetype": "text/x-python",
   "name": "python",
   "nbconvert_exporter": "python",
   "pygments_lexer": "ipython3",
   "version": "3.7.7"
  }
 },
 "nbformat": 4,
 "nbformat_minor": 4
}
